{
  "nbformat": 4,
  "nbformat_minor": 0,
  "metadata": {
    "colab": {
      "name": "Moringa_Data_Science_Prep_W4_Independent_Project_2019_06_Leone_Agoya_Python_Notebook",
      "version": "0.3.2",
      "provenance": [],
      "toc_visible": true
    },
    "kernelspec": {
      "name": "python3",
      "display_name": "Python 3"
    }
  },
  "cells": [
    {
      "cell_type": "markdown",
      "metadata": {
        "id": "YY_goY0EIWvy",
        "colab_type": "text"
      },
      "source": [
        "# Week 4: Independent Project"
      ]
    },
    {
      "cell_type": "markdown",
      "metadata": {
        "id": "FIcBAdybfXq8",
        "colab_type": "text"
      },
      "source": [
        "# Loading of files and libraries"
      ]
    },
    {
      "cell_type": "code",
      "metadata": {
        "id": "mVLrsBTlITbh",
        "colab_type": "code",
        "colab": {}
      },
      "source": [
        "# Task\n",
        "# importing libraries that we will use in the project\n",
        "#\n",
        "\n",
        "import csv\n",
        "import numpy as np\n",
        "import pandas as pd"
      ],
      "execution_count": 0,
      "outputs": []
    },
    {
      "cell_type": "code",
      "metadata": {
        "id": "HVZvqCYLIxtx",
        "colab_type": "code",
        "outputId": "ab341836-b191-480e-fb86-4a507111f3b8",
        "colab": {
          "base_uri": "https://localhost:8080/",
          "height": 435
        }
      },
      "source": [
        "# Task\n",
        "# loading the autolib dataframe\n",
        "# and previewing the first 5 rows\n",
        "\n",
        "autolib_df = pd.read_csv('http://bit.ly/Autolibdataset')\n",
        "autolib_df.head(5)"
      ],
      "execution_count": 2,
      "outputs": [
        {
          "output_type": "execute_result",
          "data": {
            "text/html": [
              "<div>\n",
              "<style scoped>\n",
              "    .dataframe tbody tr th:only-of-type {\n",
              "        vertical-align: middle;\n",
              "    }\n",
              "\n",
              "    .dataframe tbody tr th {\n",
              "        vertical-align: top;\n",
              "    }\n",
              "\n",
              "    .dataframe thead th {\n",
              "        text-align: right;\n",
              "    }\n",
              "</style>\n",
              "<table border=\"1\" class=\"dataframe\">\n",
              "  <thead>\n",
              "    <tr style=\"text-align: right;\">\n",
              "      <th></th>\n",
              "      <th>Unnamed: 0</th>\n",
              "      <th>Address</th>\n",
              "      <th>Cars</th>\n",
              "      <th>Bluecar counter</th>\n",
              "      <th>Utilib counter</th>\n",
              "      <th>Utilib 1.4 counter</th>\n",
              "      <th>Charge Slots</th>\n",
              "      <th>Charging Status</th>\n",
              "      <th>City</th>\n",
              "      <th>Displayed comment</th>\n",
              "      <th>ID</th>\n",
              "      <th>Kind</th>\n",
              "      <th>Geo point</th>\n",
              "      <th>Postal code</th>\n",
              "      <th>Public name</th>\n",
              "      <th>Rental status</th>\n",
              "      <th>Scheduled at</th>\n",
              "      <th>Slots</th>\n",
              "      <th>Station type</th>\n",
              "      <th>Status</th>\n",
              "      <th>Subscription status</th>\n",
              "      <th>year</th>\n",
              "      <th>month</th>\n",
              "      <th>day</th>\n",
              "      <th>hour</th>\n",
              "      <th>minute</th>\n",
              "    </tr>\n",
              "  </thead>\n",
              "  <tbody>\n",
              "    <tr>\n",
              "      <th>0</th>\n",
              "      <td>0</td>\n",
              "      <td>24 Rue Vulpian</td>\n",
              "      <td>3</td>\n",
              "      <td>3</td>\n",
              "      <td>1</td>\n",
              "      <td>0</td>\n",
              "      <td>1</td>\n",
              "      <td>operational</td>\n",
              "      <td>Paris</td>\n",
              "      <td>NaN</td>\n",
              "      <td>paris-vulpian-24</td>\n",
              "      <td>STATION</td>\n",
              "      <td>48.8310493, 2.3460584</td>\n",
              "      <td>75013</td>\n",
              "      <td>Paris/Vulpian/24</td>\n",
              "      <td>operational</td>\n",
              "      <td>NaN</td>\n",
              "      <td>1</td>\n",
              "      <td>station</td>\n",
              "      <td>ok</td>\n",
              "      <td>nonexistent</td>\n",
              "      <td>2018</td>\n",
              "      <td>4</td>\n",
              "      <td>1</td>\n",
              "      <td>0</td>\n",
              "      <td>0</td>\n",
              "    </tr>\n",
              "    <tr>\n",
              "      <th>1</th>\n",
              "      <td>1</td>\n",
              "      <td>8 Boulevard Richard Lenoir</td>\n",
              "      <td>0</td>\n",
              "      <td>0</td>\n",
              "      <td>0</td>\n",
              "      <td>0</td>\n",
              "      <td>1</td>\n",
              "      <td>operational</td>\n",
              "      <td>Paris</td>\n",
              "      <td>NaN</td>\n",
              "      <td>paris-richardlenoir-8</td>\n",
              "      <td>STATION</td>\n",
              "      <td>48.8545026, 2.370183</td>\n",
              "      <td>75011</td>\n",
              "      <td>Paris/Richard Lenoir/8</td>\n",
              "      <td>operational</td>\n",
              "      <td>NaN</td>\n",
              "      <td>3</td>\n",
              "      <td>station</td>\n",
              "      <td>ok</td>\n",
              "      <td>nonexistent</td>\n",
              "      <td>2018</td>\n",
              "      <td>4</td>\n",
              "      <td>1</td>\n",
              "      <td>0</td>\n",
              "      <td>0</td>\n",
              "    </tr>\n",
              "    <tr>\n",
              "      <th>2</th>\n",
              "      <td>2</td>\n",
              "      <td>4 Rue Charles Bossut</td>\n",
              "      <td>3</td>\n",
              "      <td>3</td>\n",
              "      <td>0</td>\n",
              "      <td>0</td>\n",
              "      <td>1</td>\n",
              "      <td>operational</td>\n",
              "      <td>Paris</td>\n",
              "      <td>NaN</td>\n",
              "      <td>paris-charlesbossut-4</td>\n",
              "      <td>STATION</td>\n",
              "      <td>48.8431847, 2.3837959</td>\n",
              "      <td>75012</td>\n",
              "      <td>Paris/Charles Bossut/4</td>\n",
              "      <td>operational</td>\n",
              "      <td>NaN</td>\n",
              "      <td>2</td>\n",
              "      <td>station</td>\n",
              "      <td>ok</td>\n",
              "      <td>nonexistent</td>\n",
              "      <td>2018</td>\n",
              "      <td>4</td>\n",
              "      <td>1</td>\n",
              "      <td>0</td>\n",
              "      <td>0</td>\n",
              "    </tr>\n",
              "    <tr>\n",
              "      <th>3</th>\n",
              "      <td>3</td>\n",
              "      <td>3 avenue Claude Vellefaux</td>\n",
              "      <td>4</td>\n",
              "      <td>4</td>\n",
              "      <td>0</td>\n",
              "      <td>0</td>\n",
              "      <td>0</td>\n",
              "      <td>operational</td>\n",
              "      <td>Paris</td>\n",
              "      <td>NaN</td>\n",
              "      <td>paris-claudevellefaux-3</td>\n",
              "      <td>STATION</td>\n",
              "      <td>48.8740623, 2.3703034</td>\n",
              "      <td>75010</td>\n",
              "      <td>Paris/Claude Vellefaux/3</td>\n",
              "      <td>operational</td>\n",
              "      <td>NaN</td>\n",
              "      <td>1</td>\n",
              "      <td>station</td>\n",
              "      <td>ok</td>\n",
              "      <td>nonexistent</td>\n",
              "      <td>2018</td>\n",
              "      <td>4</td>\n",
              "      <td>1</td>\n",
              "      <td>0</td>\n",
              "      <td>0</td>\n",
              "    </tr>\n",
              "    <tr>\n",
              "      <th>4</th>\n",
              "      <td>4</td>\n",
              "      <td>236 Boulevard Voltaire</td>\n",
              "      <td>1</td>\n",
              "      <td>1</td>\n",
              "      <td>0</td>\n",
              "      <td>0</td>\n",
              "      <td>1</td>\n",
              "      <td>operational</td>\n",
              "      <td>Paris</td>\n",
              "      <td>NaN</td>\n",
              "      <td>paris-voltaire-236</td>\n",
              "      <td>STATION</td>\n",
              "      <td>48.852023, 2.389719</td>\n",
              "      <td>75011</td>\n",
              "      <td>Paris/Voltaire/236</td>\n",
              "      <td>operational</td>\n",
              "      <td>NaN</td>\n",
              "      <td>4</td>\n",
              "      <td>station</td>\n",
              "      <td>ok</td>\n",
              "      <td>nonexistent</td>\n",
              "      <td>2018</td>\n",
              "      <td>4</td>\n",
              "      <td>1</td>\n",
              "      <td>0</td>\n",
              "      <td>0</td>\n",
              "    </tr>\n",
              "  </tbody>\n",
              "</table>\n",
              "</div>"
            ],
            "text/plain": [
              "   Unnamed: 0                     Address  Cars  ...  day  hour  minute\n",
              "0           0              24 Rue Vulpian     3  ...    1     0       0\n",
              "1           1  8 Boulevard Richard Lenoir     0  ...    1     0       0\n",
              "2           2        4 Rue Charles Bossut     3  ...    1     0       0\n",
              "3           3   3 avenue Claude Vellefaux     4  ...    1     0       0\n",
              "4           4      236 Boulevard Voltaire     1  ...    1     0       0\n",
              "\n",
              "[5 rows x 26 columns]"
            ]
          },
          "metadata": {
            "tags": []
          },
          "execution_count": 2
        }
      ]
    },
    {
      "cell_type": "code",
      "metadata": {
        "id": "WDkf2cfrl4um",
        "colab_type": "code",
        "colab": {
          "base_uri": "https://localhost:8080/",
          "height": 36
        },
        "outputId": "bed1d7f7-88f1-4988-8aae-cfb058fa6710"
      },
      "source": [
        "# Task\n",
        "# checking the shape of a dataframe\n",
        "autolib_df.shape"
      ],
      "execution_count": 3,
      "outputs": [
        {
          "output_type": "execute_result",
          "data": {
            "text/plain": [
              "(14421829, 26)"
            ]
          },
          "metadata": {
            "tags": []
          },
          "execution_count": 3
        }
      ]
    },
    {
      "cell_type": "markdown",
      "metadata": {
        "id": "zn6-37YjffnG",
        "colab_type": "text"
      },
      "source": [
        "# Data Understanding"
      ]
    },
    {
      "cell_type": "code",
      "metadata": {
        "id": "QEEAT36AJm7k",
        "colab_type": "code",
        "outputId": "39931629-93bd-4b24-db8e-00e430d4286e",
        "colab": {
          "base_uri": "https://localhost:8080/",
          "height": 602
        }
      },
      "source": [
        "# Task\n",
        "# Accessing information about our dataset\n",
        "#\n",
        "autolib_df.info()"
      ],
      "execution_count": 3,
      "outputs": [
        {
          "output_type": "stream",
          "text": [
            "<class 'pandas.core.frame.DataFrame'>\n",
            "RangeIndex: 14421829 entries, 0 to 14421828\n",
            "Data columns (total 26 columns):\n",
            "Unnamed: 0             int64\n",
            "Address                object\n",
            "Cars                   int64\n",
            "Bluecar counter        int64\n",
            "Utilib counter         int64\n",
            "Utilib 1.4 counter     int64\n",
            "Charge Slots           int64\n",
            "Charging Status        object\n",
            "City                   object\n",
            "Displayed comment      object\n",
            "ID                     object\n",
            "Kind                   object\n",
            "Geo point              object\n",
            "Postal code            int64\n",
            "Public name            object\n",
            "Rental status          object\n",
            "Scheduled at           object\n",
            "Slots                  int64\n",
            "Station type           object\n",
            "Status                 object\n",
            "Subscription status    object\n",
            "year                   int64\n",
            "month                  int64\n",
            "day                    int64\n",
            "hour                   int64\n",
            "minute                 int64\n",
            "dtypes: int64(13), object(13)\n",
            "memory usage: 2.8+ GB\n"
          ],
          "name": "stdout"
        }
      ]
    },
    {
      "cell_type": "code",
      "metadata": {
        "id": "9ZIEvw6iNt17",
        "colab_type": "code",
        "colab": {
          "base_uri": "https://localhost:8080/",
          "height": 36
        },
        "outputId": "6cb52a6f-b59c-4490-ebb9-46bfee56b203"
      },
      "source": [
        "# Task\n",
        "# Checking the various types of charging status available\n",
        "#\n",
        "print(autolib_df['Charging Status'].unique())"
      ],
      "execution_count": 4,
      "outputs": [
        {
          "output_type": "stream",
          "text": [
            "['operational' 'nonexistent' 'broken']\n"
          ],
          "name": "stdout"
        }
      ]
    },
    {
      "cell_type": "code",
      "metadata": {
        "id": "uNvWydZiOLpo",
        "colab_type": "code",
        "colab": {
          "base_uri": "https://localhost:8080/",
          "height": 36
        },
        "outputId": "c94ba445-caf3-411a-eb3b-b7c330ef2b47"
      },
      "source": [
        "# Task\n",
        "# Checking the various types of rental status available\n",
        "#\n",
        "print(autolib_df['Rental status'].unique())"
      ],
      "execution_count": 5,
      "outputs": [
        {
          "output_type": "stream",
          "text": [
            "['operational' 'broken' 'future' 'nonexistent']\n"
          ],
          "name": "stdout"
        }
      ]
    },
    {
      "cell_type": "code",
      "metadata": {
        "id": "A5MtiGYFg-EW",
        "colab_type": "code",
        "colab": {
          "base_uri": "https://localhost:8080/",
          "height": 36
        },
        "outputId": "fd9daa3b-6c61-4473-f202-b15e5c7d2015"
      },
      "source": [
        "# Task\n",
        "# Checking the various kinds of car lots present\n",
        "#\n",
        "print(autolib_df['Kind'].unique())"
      ],
      "execution_count": 6,
      "outputs": [
        {
          "output_type": "stream",
          "text": [
            "['STATION' 'SPACE' 'PARKING' 'CENTER']\n"
          ],
          "name": "stdout"
        }
      ]
    },
    {
      "cell_type": "code",
      "metadata": {
        "id": "7mBcKRW6fOQt",
        "colab_type": "code",
        "colab": {
          "base_uri": "https://localhost:8080/",
          "height": 36
        },
        "outputId": "c09a1c15-83b5-486a-adc6-376f62a2e120"
      },
      "source": [
        "# Task\n",
        "# Checking the various Station types present\n",
        "#\n",
        "print(autolib_df['Station type'].unique())"
      ],
      "execution_count": 7,
      "outputs": [
        {
          "output_type": "stream",
          "text": [
            "['station' 'full_station' 'subs_center']\n"
          ],
          "name": "stdout"
        }
      ]
    },
    {
      "cell_type": "markdown",
      "metadata": {
        "id": "cAiPpp_EjJRn",
        "colab_type": "text"
      },
      "source": [
        "# Data Preparation"
      ]
    },
    {
      "cell_type": "code",
      "metadata": {
        "id": "jC0GCB80jPcw",
        "colab_type": "code",
        "colab": {
          "base_uri": "https://localhost:8080/",
          "height": 1000
        },
        "outputId": "9d225352-b713-4da9-cfb6-13741674ae56"
      },
      "source": [
        "# Task\n",
        "# We shall drop duplicates that are present\n",
        "#\n",
        "autolib_df = autolib_df.drop_duplicates()\n",
        "print(autolib_df)"
      ],
      "execution_count": 3,
      "outputs": [
        {
          "output_type": "stream",
          "text": [
            "          Unnamed: 0                                    Address  ...  hour  minute\n",
            "0                  0                             24 Rue Vulpian  ...     0       0\n",
            "1                  1                 8 Boulevard Richard Lenoir  ...     0       0\n",
            "2                  2                       4 Rue Charles Bossut  ...     0       0\n",
            "3                  3                  3 avenue Claude Vellefaux  ...     0       0\n",
            "4                  4                     236 Boulevard Voltaire  ...     0       0\n",
            "5                  5               44 Rue des Pirogues de Bercy  ...     0       0\n",
            "6                  6                63 Boulevard Richard Lenoir  ...     0       0\n",
            "7                  7                          43 Rue de Monceau  ...     0       0\n",
            "8                  8         10 Avenue du Docteur Arnold Netter  ...     0       0\n",
            "9                  9             33 Avenue Pierre 1er de Serbie  ...     0       0\n",
            "10                10                   2 Rue Houdart de Lamotte  ...     0       0\n",
            "11                11          238 Rue du Faubourg Saint-Antoine  ...     0       0\n",
            "12                12                         23 Quai aux Fleurs  ...     0       0\n",
            "13                13                      54 Rue David d'Angers  ...     0       0\n",
            "14                14                          46 rue de Turenne  ...     0       0\n",
            "15                15                        142 Rue de Bagnolet  ...     0       0\n",
            "16                16             91 rue du Faubourg Saint-Denis  ...     0       0\n",
            "17                17                           336 Rue Lecourbe  ...     0       0\n",
            "18                18                   16 place des Ãtats-Unis  ...     0       0\n",
            "19                19                               99 Rue Monge  ...     0       0\n",
            "20                20                45 Avenue de la Bourdonnais  ...     0       0\n",
            "21                21                              42 Rue du Bac  ...     0       0\n",
            "22                22                     42 avenue de Friedland  ...     0       0\n",
            "23                23                         143 Rue La Fayette  ...     0       0\n",
            "24                24                     182 Boulevard Voltaire  ...     0       0\n",
            "25                25                   2 Rue Fabre d'Ãglantine  ...     0       0\n",
            "26                26                      4 Avenue Jean JaurÃ¨s  ...     0       0\n",
            "27                27                     30 Quai de Dion Bouton  ...     0       0\n",
            "28                28                    183 Rue des Renouillers  ...     0       0\n",
            "29                29                        5 Place du Commerce  ...     0       0\n",
            "...              ...                                        ...  ...   ...     ...\n",
            "14421785        1089                              42 rue Brunel  ...    23      59\n",
            "14421786        1090                  61 rue Pierre Brossolette  ...    23      59\n",
            "14421787        1091                     30 rue Marcel Bontemps  ...    23      59\n",
            "14421788        1092                    77 rue Edouard Vaillant  ...    23      59\n",
            "14421789        1093                            1 rue de Sevran  ...    23      59\n",
            "14421790        1094                             14 rue Censier  ...    23      59\n",
            "14421791        1095                             9 rue Lobineau  ...    23      59\n",
            "14421792        1096                            29 rue GalilÃ©e  ...    23      59\n",
            "14421793        1097                        1 rue de YÃ©limanÃ©  ...    23      59\n",
            "14421794        1098            15 place du GÃ©nÃ©ral de Gaulle  ...    23      59\n",
            "14421795        1099                     53 rue du Bois l'AbbÃ©  ...    23      59\n",
            "14421796        1100                            18 rue Franklin  ...    23      59\n",
            "14421797        1101                 4 Chemin des petits marais  ...    23      59\n",
            "14421798        1102                      93 avenue Victor Hugo  ...    23      59\n",
            "14421799        1103  106 avenue du Vieux Chemin de Saint-Denis  ...    23      59\n",
            "14421800        1104                              4 rue Valiton  ...    23      59\n",
            "14421801        1105                          53 Boulevard Foch  ...    23      59\n",
            "14421802        1106                               5 rue Vauban  ...    23      59\n",
            "14421803        1107                68 rue de la Bonne Aventure  ...    23      59\n",
            "14421804        1108            1 avenue du GÃ©nÃ©ral de Gaulle  ...    23      59\n",
            "14421805        1109                 4 boulevard Anatole France  ...    23      59\n",
            "14421806        1110                  2 avenue Georges Pompidou  ...    23      59\n",
            "14421807        1111                         12 avenue Rabelais  ...    23      59\n",
            "14421808        1112                    1 rue de la LibÃ©ration  ...    23      59\n",
            "14421809        1113                    282 avenue d'Argenteuil  ...    23      59\n",
            "14421810        1114              21 rue de l'Ecole de Medecine  ...    23      59\n",
            "14421811        1115         6 avenue de la Porte de Champerret  ...    23      59\n",
            "14421812        1116                        194 rue de fontenay  ...    23      59\n",
            "14421813        1117            102 Boulevard Raymond PoincarÃ©  ...    23      59\n",
            "14421814        1118                       8 avenue George Sand  ...    23      59\n",
            "\n",
            "[14278939 rows x 26 columns]\n"
          ],
          "name": "stdout"
        }
      ]
    },
    {
      "cell_type": "code",
      "metadata": {
        "id": "lx1SO-nolxDX",
        "colab_type": "code",
        "colab": {
          "base_uri": "https://localhost:8080/",
          "height": 435
        },
        "outputId": "7ac1c640-fb9b-45fe-9b9f-3f0d855558c7"
      },
      "source": [
        "# Task\n",
        "# Dropping of columns that we do not need from the dataframe\n",
        "#\n",
        "autolib_df.drop(['Unnamed: 0','Cars','Charge Slots','Charging Status','Displayed comment','ID','Geo point', 'Rental status', 'Scheduled at','Slots','year','month','minute'], axis = 1, inplace = True) \n",
        "  \n",
        "autolib_df.head(5)\n"
      ],
      "execution_count": 4,
      "outputs": [
        {
          "output_type": "execute_result",
          "data": {
            "text/html": [
              "<div>\n",
              "<style scoped>\n",
              "    .dataframe tbody tr th:only-of-type {\n",
              "        vertical-align: middle;\n",
              "    }\n",
              "\n",
              "    .dataframe tbody tr th {\n",
              "        vertical-align: top;\n",
              "    }\n",
              "\n",
              "    .dataframe thead th {\n",
              "        text-align: right;\n",
              "    }\n",
              "</style>\n",
              "<table border=\"1\" class=\"dataframe\">\n",
              "  <thead>\n",
              "    <tr style=\"text-align: right;\">\n",
              "      <th></th>\n",
              "      <th>Address</th>\n",
              "      <th>Bluecar counter</th>\n",
              "      <th>Utilib counter</th>\n",
              "      <th>Utilib 1.4 counter</th>\n",
              "      <th>City</th>\n",
              "      <th>Kind</th>\n",
              "      <th>Postal code</th>\n",
              "      <th>Public name</th>\n",
              "      <th>Station type</th>\n",
              "      <th>Status</th>\n",
              "      <th>Subscription status</th>\n",
              "      <th>day</th>\n",
              "      <th>hour</th>\n",
              "    </tr>\n",
              "  </thead>\n",
              "  <tbody>\n",
              "    <tr>\n",
              "      <th>0</th>\n",
              "      <td>24 Rue Vulpian</td>\n",
              "      <td>3</td>\n",
              "      <td>1</td>\n",
              "      <td>0</td>\n",
              "      <td>Paris</td>\n",
              "      <td>STATION</td>\n",
              "      <td>75013</td>\n",
              "      <td>Paris/Vulpian/24</td>\n",
              "      <td>station</td>\n",
              "      <td>ok</td>\n",
              "      <td>nonexistent</td>\n",
              "      <td>1</td>\n",
              "      <td>0</td>\n",
              "    </tr>\n",
              "    <tr>\n",
              "      <th>1</th>\n",
              "      <td>8 Boulevard Richard Lenoir</td>\n",
              "      <td>0</td>\n",
              "      <td>0</td>\n",
              "      <td>0</td>\n",
              "      <td>Paris</td>\n",
              "      <td>STATION</td>\n",
              "      <td>75011</td>\n",
              "      <td>Paris/Richard Lenoir/8</td>\n",
              "      <td>station</td>\n",
              "      <td>ok</td>\n",
              "      <td>nonexistent</td>\n",
              "      <td>1</td>\n",
              "      <td>0</td>\n",
              "    </tr>\n",
              "    <tr>\n",
              "      <th>2</th>\n",
              "      <td>4 Rue Charles Bossut</td>\n",
              "      <td>3</td>\n",
              "      <td>0</td>\n",
              "      <td>0</td>\n",
              "      <td>Paris</td>\n",
              "      <td>STATION</td>\n",
              "      <td>75012</td>\n",
              "      <td>Paris/Charles Bossut/4</td>\n",
              "      <td>station</td>\n",
              "      <td>ok</td>\n",
              "      <td>nonexistent</td>\n",
              "      <td>1</td>\n",
              "      <td>0</td>\n",
              "    </tr>\n",
              "    <tr>\n",
              "      <th>3</th>\n",
              "      <td>3 avenue Claude Vellefaux</td>\n",
              "      <td>4</td>\n",
              "      <td>0</td>\n",
              "      <td>0</td>\n",
              "      <td>Paris</td>\n",
              "      <td>STATION</td>\n",
              "      <td>75010</td>\n",
              "      <td>Paris/Claude Vellefaux/3</td>\n",
              "      <td>station</td>\n",
              "      <td>ok</td>\n",
              "      <td>nonexistent</td>\n",
              "      <td>1</td>\n",
              "      <td>0</td>\n",
              "    </tr>\n",
              "    <tr>\n",
              "      <th>4</th>\n",
              "      <td>236 Boulevard Voltaire</td>\n",
              "      <td>1</td>\n",
              "      <td>0</td>\n",
              "      <td>0</td>\n",
              "      <td>Paris</td>\n",
              "      <td>STATION</td>\n",
              "      <td>75011</td>\n",
              "      <td>Paris/Voltaire/236</td>\n",
              "      <td>station</td>\n",
              "      <td>ok</td>\n",
              "      <td>nonexistent</td>\n",
              "      <td>1</td>\n",
              "      <td>0</td>\n",
              "    </tr>\n",
              "  </tbody>\n",
              "</table>\n",
              "</div>"
            ],
            "text/plain": [
              "                      Address  Bluecar counter  ...  day  hour\n",
              "0              24 Rue Vulpian                3  ...    1     0\n",
              "1  8 Boulevard Richard Lenoir                0  ...    1     0\n",
              "2        4 Rue Charles Bossut                3  ...    1     0\n",
              "3   3 avenue Claude Vellefaux                4  ...    1     0\n",
              "4      236 Boulevard Voltaire                1  ...    1     0\n",
              "\n",
              "[5 rows x 13 columns]"
            ]
          },
          "metadata": {
            "tags": []
          },
          "execution_count": 4
        }
      ]
    },
    {
      "cell_type": "code",
      "metadata": {
        "id": "ZIqxs9EysDyH",
        "colab_type": "code",
        "colab": {
          "base_uri": "https://localhost:8080/",
          "height": 400
        },
        "outputId": "2b7d67c8-3963-43c4-eeac-16c8ebe76d0d"
      },
      "source": [
        "# Task\n",
        "# We shall rename columns that have spaces and use an underscore in place of the space\n",
        "#\n",
        "autolib_df.rename(columns = {'Bluecar counter' :'Bluecar_Counter', 'Utilib counter' : 'Utilib_Counter', 'Utilib 1.4 counter' : 'Utilib_14_Counter', 'Charge Slots' : 'Charge_Slots', 'Charging Status': 'Charging_Status', 'Displayed comment' : 'Displayed_Comment', 'Geo point' : 'Geo_Point', 'Postal code': 'Postal_Code', 'Public name' : 'Public_Name', 'Rental status' : 'Rental_Status', 'Scheduled at' : 'Scheduled_At', 'Station type' : 'Station_Type', 'Subscription status' : 'Subscription_Status'}, inplace = True)\n",
        "\n",
        "autolib_df.head(5)"
      ],
      "execution_count": 5,
      "outputs": [
        {
          "output_type": "execute_result",
          "data": {
            "text/html": [
              "<div>\n",
              "<style scoped>\n",
              "    .dataframe tbody tr th:only-of-type {\n",
              "        vertical-align: middle;\n",
              "    }\n",
              "\n",
              "    .dataframe tbody tr th {\n",
              "        vertical-align: top;\n",
              "    }\n",
              "\n",
              "    .dataframe thead th {\n",
              "        text-align: right;\n",
              "    }\n",
              "</style>\n",
              "<table border=\"1\" class=\"dataframe\">\n",
              "  <thead>\n",
              "    <tr style=\"text-align: right;\">\n",
              "      <th></th>\n",
              "      <th>Address</th>\n",
              "      <th>Bluecar_Counter</th>\n",
              "      <th>Utilib_Counter</th>\n",
              "      <th>Utilib_14_Counter</th>\n",
              "      <th>City</th>\n",
              "      <th>Kind</th>\n",
              "      <th>Postal_Code</th>\n",
              "      <th>Public_Name</th>\n",
              "      <th>Station_Type</th>\n",
              "      <th>Status</th>\n",
              "      <th>Subscription_Status</th>\n",
              "      <th>day</th>\n",
              "      <th>hour</th>\n",
              "    </tr>\n",
              "  </thead>\n",
              "  <tbody>\n",
              "    <tr>\n",
              "      <th>0</th>\n",
              "      <td>24 Rue Vulpian</td>\n",
              "      <td>3</td>\n",
              "      <td>1</td>\n",
              "      <td>0</td>\n",
              "      <td>Paris</td>\n",
              "      <td>STATION</td>\n",
              "      <td>75013</td>\n",
              "      <td>Paris/Vulpian/24</td>\n",
              "      <td>station</td>\n",
              "      <td>ok</td>\n",
              "      <td>nonexistent</td>\n",
              "      <td>1</td>\n",
              "      <td>0</td>\n",
              "    </tr>\n",
              "    <tr>\n",
              "      <th>1</th>\n",
              "      <td>8 Boulevard Richard Lenoir</td>\n",
              "      <td>0</td>\n",
              "      <td>0</td>\n",
              "      <td>0</td>\n",
              "      <td>Paris</td>\n",
              "      <td>STATION</td>\n",
              "      <td>75011</td>\n",
              "      <td>Paris/Richard Lenoir/8</td>\n",
              "      <td>station</td>\n",
              "      <td>ok</td>\n",
              "      <td>nonexistent</td>\n",
              "      <td>1</td>\n",
              "      <td>0</td>\n",
              "    </tr>\n",
              "    <tr>\n",
              "      <th>2</th>\n",
              "      <td>4 Rue Charles Bossut</td>\n",
              "      <td>3</td>\n",
              "      <td>0</td>\n",
              "      <td>0</td>\n",
              "      <td>Paris</td>\n",
              "      <td>STATION</td>\n",
              "      <td>75012</td>\n",
              "      <td>Paris/Charles Bossut/4</td>\n",
              "      <td>station</td>\n",
              "      <td>ok</td>\n",
              "      <td>nonexistent</td>\n",
              "      <td>1</td>\n",
              "      <td>0</td>\n",
              "    </tr>\n",
              "    <tr>\n",
              "      <th>3</th>\n",
              "      <td>3 avenue Claude Vellefaux</td>\n",
              "      <td>4</td>\n",
              "      <td>0</td>\n",
              "      <td>0</td>\n",
              "      <td>Paris</td>\n",
              "      <td>STATION</td>\n",
              "      <td>75010</td>\n",
              "      <td>Paris/Claude Vellefaux/3</td>\n",
              "      <td>station</td>\n",
              "      <td>ok</td>\n",
              "      <td>nonexistent</td>\n",
              "      <td>1</td>\n",
              "      <td>0</td>\n",
              "    </tr>\n",
              "    <tr>\n",
              "      <th>4</th>\n",
              "      <td>236 Boulevard Voltaire</td>\n",
              "      <td>1</td>\n",
              "      <td>0</td>\n",
              "      <td>0</td>\n",
              "      <td>Paris</td>\n",
              "      <td>STATION</td>\n",
              "      <td>75011</td>\n",
              "      <td>Paris/Voltaire/236</td>\n",
              "      <td>station</td>\n",
              "      <td>ok</td>\n",
              "      <td>nonexistent</td>\n",
              "      <td>1</td>\n",
              "      <td>0</td>\n",
              "    </tr>\n",
              "  </tbody>\n",
              "</table>\n",
              "</div>"
            ],
            "text/plain": [
              "                      Address  Bluecar_Counter  ...  day  hour\n",
              "0              24 Rue Vulpian                3  ...    1     0\n",
              "1  8 Boulevard Richard Lenoir                0  ...    1     0\n",
              "2        4 Rue Charles Bossut                3  ...    1     0\n",
              "3   3 avenue Claude Vellefaux                4  ...    1     0\n",
              "4      236 Boulevard Voltaire                1  ...    1     0\n",
              "\n",
              "[5 rows x 13 columns]"
            ]
          },
          "metadata": {
            "tags": []
          },
          "execution_count": 5
        }
      ]
    },
    {
      "cell_type": "code",
      "metadata": {
        "id": "ZeKwKHX0v2mO",
        "colab_type": "code",
        "colab": {
          "base_uri": "https://localhost:8080/",
          "height": 602
        },
        "outputId": "e3c458f9-4c5f-4acf-f4aa-af19e4858c3c"
      },
      "source": [
        "# Task\n",
        "# Accessing information about our dataset\n",
        "#\n",
        "autolib_df.info()"
      ],
      "execution_count": 6,
      "outputs": [
        {
          "output_type": "stream",
          "text": [
            "<class 'pandas.core.frame.DataFrame'>\n",
            "Int64Index: 14278939 entries, 0 to 14421814\n",
            "Data columns (total 26 columns):\n",
            "Unnamed: 0             int64\n",
            "Address                object\n",
            "Cars                   int64\n",
            "Bluecar_Counter        int64\n",
            "Utilib_Counter         int64\n",
            "Utilib_14_Counter      int64\n",
            "Charge_Slots           int64\n",
            "Charging_Status        object\n",
            "City                   object\n",
            "Displayed_Comment      object\n",
            "ID                     object\n",
            "Kind                   object\n",
            "Geo_Point              object\n",
            "Postal_Code            int64\n",
            "Public_Name            object\n",
            "Rental_Status          object\n",
            "Scheduled_At           object\n",
            "Slots                  int64\n",
            "Station_Type           object\n",
            "Status                 object\n",
            "Subscription_Status    object\n",
            "year                   int64\n",
            "month                  int64\n",
            "day                    int64\n",
            "hour                   int64\n",
            "minute                 int64\n",
            "dtypes: int64(13), object(13)\n",
            "memory usage: 2.9+ GB\n"
          ],
          "name": "stdout"
        }
      ]
    },
    {
      "cell_type": "markdown",
      "metadata": {
        "id": "5uQhSMl19DPE",
        "colab_type": "text"
      },
      "source": [
        "We shall make an assumption that the value in the counter fields is the number of cars in the given station. \n",
        "\n",
        "We shall create three new columns (bluecar_usage, utilib_usage, utilib_14_usage) A negative value will show that the cars have been picked up, a postive value will show that a car has been returned, a value of 0 will show that there was no activity (no picking or returning of vehicles)"
      ]
    },
    {
      "cell_type": "code",
      "metadata": {
        "id": "bOLjlS5T9A28",
        "colab_type": "code",
        "colab": {}
      },
      "source": [
        "#Creating column for bluecar usage\n",
        "autolib_df['bluecar_usage'] = autolib_df.Bluecar_Counter.diff()\n",
        "\n",
        "#Creating column for utilib usage\n",
        "autolib_df['utilib_usage'] = autolib_df.Utilib_Counter.diff()\n",
        "\n",
        "#Creating column for utilib 14 usage\n",
        "autolib_df['utilib_14_usage'] = autolib_df.Utilib_14_Counter.diff()"
      ],
      "execution_count": 0,
      "outputs": []
    },
    {
      "cell_type": "code",
      "metadata": {
        "id": "pvmUM_JPCnK9",
        "colab_type": "code",
        "colab": {
          "base_uri": "https://localhost:8080/",
          "height": 400
        },
        "outputId": "d922b874-e04d-4d18-ab8d-3e65709e811a"
      },
      "source": [
        "# Previewing the dataframe\n",
        "#\n",
        "autolib_df.head(5)"
      ],
      "execution_count": 7,
      "outputs": [
        {
          "output_type": "execute_result",
          "data": {
            "text/html": [
              "<div>\n",
              "<style scoped>\n",
              "    .dataframe tbody tr th:only-of-type {\n",
              "        vertical-align: middle;\n",
              "    }\n",
              "\n",
              "    .dataframe tbody tr th {\n",
              "        vertical-align: top;\n",
              "    }\n",
              "\n",
              "    .dataframe thead th {\n",
              "        text-align: right;\n",
              "    }\n",
              "</style>\n",
              "<table border=\"1\" class=\"dataframe\">\n",
              "  <thead>\n",
              "    <tr style=\"text-align: right;\">\n",
              "      <th></th>\n",
              "      <th>Address</th>\n",
              "      <th>Bluecar_Counter</th>\n",
              "      <th>Utilib_Counter</th>\n",
              "      <th>Utilib_14_Counter</th>\n",
              "      <th>City</th>\n",
              "      <th>Kind</th>\n",
              "      <th>Postal_Code</th>\n",
              "      <th>Public_Name</th>\n",
              "      <th>Station_Type</th>\n",
              "      <th>Status</th>\n",
              "      <th>Subscription_Status</th>\n",
              "      <th>day</th>\n",
              "      <th>hour</th>\n",
              "      <th>bluecar_usage</th>\n",
              "      <th>utilib_usage</th>\n",
              "      <th>utilib_14_usage</th>\n",
              "    </tr>\n",
              "  </thead>\n",
              "  <tbody>\n",
              "    <tr>\n",
              "      <th>0</th>\n",
              "      <td>24 Rue Vulpian</td>\n",
              "      <td>3</td>\n",
              "      <td>1</td>\n",
              "      <td>0</td>\n",
              "      <td>Paris</td>\n",
              "      <td>STATION</td>\n",
              "      <td>75013</td>\n",
              "      <td>Paris/Vulpian/24</td>\n",
              "      <td>station</td>\n",
              "      <td>ok</td>\n",
              "      <td>nonexistent</td>\n",
              "      <td>1</td>\n",
              "      <td>0</td>\n",
              "      <td>NaN</td>\n",
              "      <td>NaN</td>\n",
              "      <td>NaN</td>\n",
              "    </tr>\n",
              "    <tr>\n",
              "      <th>1</th>\n",
              "      <td>8 Boulevard Richard Lenoir</td>\n",
              "      <td>0</td>\n",
              "      <td>0</td>\n",
              "      <td>0</td>\n",
              "      <td>Paris</td>\n",
              "      <td>STATION</td>\n",
              "      <td>75011</td>\n",
              "      <td>Paris/Richard Lenoir/8</td>\n",
              "      <td>station</td>\n",
              "      <td>ok</td>\n",
              "      <td>nonexistent</td>\n",
              "      <td>1</td>\n",
              "      <td>0</td>\n",
              "      <td>-3.0</td>\n",
              "      <td>-1.0</td>\n",
              "      <td>0.0</td>\n",
              "    </tr>\n",
              "    <tr>\n",
              "      <th>2</th>\n",
              "      <td>4 Rue Charles Bossut</td>\n",
              "      <td>3</td>\n",
              "      <td>0</td>\n",
              "      <td>0</td>\n",
              "      <td>Paris</td>\n",
              "      <td>STATION</td>\n",
              "      <td>75012</td>\n",
              "      <td>Paris/Charles Bossut/4</td>\n",
              "      <td>station</td>\n",
              "      <td>ok</td>\n",
              "      <td>nonexistent</td>\n",
              "      <td>1</td>\n",
              "      <td>0</td>\n",
              "      <td>3.0</td>\n",
              "      <td>0.0</td>\n",
              "      <td>0.0</td>\n",
              "    </tr>\n",
              "    <tr>\n",
              "      <th>3</th>\n",
              "      <td>3 avenue Claude Vellefaux</td>\n",
              "      <td>4</td>\n",
              "      <td>0</td>\n",
              "      <td>0</td>\n",
              "      <td>Paris</td>\n",
              "      <td>STATION</td>\n",
              "      <td>75010</td>\n",
              "      <td>Paris/Claude Vellefaux/3</td>\n",
              "      <td>station</td>\n",
              "      <td>ok</td>\n",
              "      <td>nonexistent</td>\n",
              "      <td>1</td>\n",
              "      <td>0</td>\n",
              "      <td>1.0</td>\n",
              "      <td>0.0</td>\n",
              "      <td>0.0</td>\n",
              "    </tr>\n",
              "    <tr>\n",
              "      <th>4</th>\n",
              "      <td>236 Boulevard Voltaire</td>\n",
              "      <td>1</td>\n",
              "      <td>0</td>\n",
              "      <td>0</td>\n",
              "      <td>Paris</td>\n",
              "      <td>STATION</td>\n",
              "      <td>75011</td>\n",
              "      <td>Paris/Voltaire/236</td>\n",
              "      <td>station</td>\n",
              "      <td>ok</td>\n",
              "      <td>nonexistent</td>\n",
              "      <td>1</td>\n",
              "      <td>0</td>\n",
              "      <td>-3.0</td>\n",
              "      <td>0.0</td>\n",
              "      <td>0.0</td>\n",
              "    </tr>\n",
              "  </tbody>\n",
              "</table>\n",
              "</div>"
            ],
            "text/plain": [
              "                      Address  Bluecar_Counter  ...  utilib_usage  utilib_14_usage\n",
              "0              24 Rue Vulpian                3  ...           NaN              NaN\n",
              "1  8 Boulevard Richard Lenoir                0  ...          -1.0              0.0\n",
              "2        4 Rue Charles Bossut                3  ...           0.0              0.0\n",
              "3   3 avenue Claude Vellefaux                4  ...           0.0              0.0\n",
              "4      236 Boulevard Voltaire                1  ...           0.0              0.0\n",
              "\n",
              "[5 rows x 16 columns]"
            ]
          },
          "metadata": {
            "tags": []
          },
          "execution_count": 7
        }
      ]
    },
    {
      "cell_type": "markdown",
      "metadata": {
        "id": "LTW3fF9uznUX",
        "colab_type": "text"
      },
      "source": [
        "# Challenges - Bluecars"
      ]
    },
    {
      "cell_type": "markdown",
      "metadata": {
        "id": "d2QwAxUoF0jX",
        "colab_type": "text"
      },
      "source": [
        "What is the most popular hour of the day for picking up a shared electric car in the city of Paris? (Specifically Bluecars)"
      ]
    },
    {
      "cell_type": "code",
      "metadata": {
        "id": "sK0dqzgdzvhG",
        "colab_type": "code",
        "colab": {
          "base_uri": "https://localhost:8080/",
          "height": 55
        },
        "outputId": "16a1cfb6-409b-4210-9295-058b9471f962"
      },
      "source": [
        "# First find the unique values that appear in the \n",
        "# bluecar_usage so as to find the highest -ve value\n",
        "# which is the highest pickup\n",
        "#\n",
        "autolib_df.bluecar_usage.unique()"
      ],
      "execution_count": 10,
      "outputs": [
        {
          "output_type": "execute_result",
          "data": {
            "text/plain": [
              "array([nan, -3.,  3.,  1.,  0., -1.,  4., -2., -5.,  2.,  5.,  6., -4.,\n",
              "       -6., -7.,  7.])"
            ]
          },
          "metadata": {
            "tags": []
          },
          "execution_count": 10
        }
      ]
    },
    {
      "cell_type": "code",
      "metadata": {
        "id": "0uMBS9pQGNU0",
        "colab_type": "code",
        "colab": {
          "base_uri": "https://localhost:8080/",
          "height": 74
        },
        "outputId": "d17a1457-7d01-4173-e4e5-96d2c77f2a9e"
      },
      "source": [
        "# Most popular hour for picking a car\n",
        "#\n",
        "autolib_df[(autolib_df.City == 'Paris') & (autolib_df.bluecar_usage == -7.0)].groupby('hour')['hour'].count().sort_values(ascending = False).head(1)"
      ],
      "execution_count": 11,
      "outputs": [
        {
          "output_type": "execute_result",
          "data": {
            "text/plain": [
              "hour\n",
              "2    705\n",
              "Name: hour, dtype: int64"
            ]
          },
          "metadata": {
            "tags": []
          },
          "execution_count": 11
        }
      ]
    },
    {
      "cell_type": "markdown",
      "metadata": {
        "id": "xUhIzI_8J0PM",
        "colab_type": "text"
      },
      "source": [
        "The most popular hour for picking a car is 2AM"
      ]
    },
    {
      "cell_type": "code",
      "metadata": {
        "id": "FINJTv3yHdTy",
        "colab_type": "code",
        "colab": {
          "base_uri": "https://localhost:8080/",
          "height": 74
        },
        "outputId": "a60c8da5-dc40-4f38-c1ee-b467694c5f15"
      },
      "source": [
        "# Most popular hour for returning cars\n",
        "#\n",
        "autolib_df[autolib_df.bluecar_usage == 7.].groupby('hour')['hour'].count().sort_values(ascending = False).head(1)"
      ],
      "execution_count": 12,
      "outputs": [
        {
          "output_type": "execute_result",
          "data": {
            "text/plain": [
              "hour\n",
              "4    1988\n",
              "Name: hour, dtype: int64"
            ]
          },
          "metadata": {
            "tags": []
          },
          "execution_count": 12
        }
      ]
    },
    {
      "cell_type": "markdown",
      "metadata": {
        "id": "IdC15iYCJ_vS",
        "colab_type": "text"
      },
      "source": [
        "The most popular hour for returning is 4AM"
      ]
    },
    {
      "cell_type": "code",
      "metadata": {
        "id": "ijk0PaIQGa1Z",
        "colab_type": "code",
        "colab": {
          "base_uri": "https://localhost:8080/",
          "height": 112
        },
        "outputId": "f19ca72a-e17b-4bae-c3e2-6b084ce95ad5"
      },
      "source": [
        "# Most popular station overall\n",
        "#\n",
        "autolib_df[(autolib_df.Kind == 'STATION') & (autolib_df.Status == 'ok')].groupby('Public_Name')[['Kind']].count().sort_values(by = 'Kind', ascending  = False).head(1)"
      ],
      "execution_count": 8,
      "outputs": [
        {
          "output_type": "execute_result",
          "data": {
            "text/html": [
              "<div>\n",
              "<style scoped>\n",
              "    .dataframe tbody tr th:only-of-type {\n",
              "        vertical-align: middle;\n",
              "    }\n",
              "\n",
              "    .dataframe tbody tr th {\n",
              "        vertical-align: top;\n",
              "    }\n",
              "\n",
              "    .dataframe thead th {\n",
              "        text-align: right;\n",
              "    }\n",
              "</style>\n",
              "<table border=\"1\" class=\"dataframe\">\n",
              "  <thead>\n",
              "    <tr style=\"text-align: right;\">\n",
              "      <th></th>\n",
              "      <th>Kind</th>\n",
              "    </tr>\n",
              "    <tr>\n",
              "      <th>Public_Name</th>\n",
              "      <th></th>\n",
              "    </tr>\n",
              "  </thead>\n",
              "  <tbody>\n",
              "    <tr>\n",
              "      <th>Alfortville/Charles de Gaulle/16</th>\n",
              "      <td>12761</td>\n",
              "    </tr>\n",
              "  </tbody>\n",
              "</table>\n",
              "</div>"
            ],
            "text/plain": [
              "                                   Kind\n",
              "Public_Name                            \n",
              "Alfortville/Charles de Gaulle/16  12761"
            ]
          },
          "metadata": {
            "tags": []
          },
          "execution_count": 8
        }
      ]
    },
    {
      "cell_type": "code",
      "metadata": {
        "id": "m95o3gq7MEtF",
        "colab_type": "code",
        "colab": {
          "base_uri": "https://localhost:8080/",
          "height": 112
        },
        "outputId": "2adef45e-f30f-48d1-a316-55dcff30101b"
      },
      "source": [
        "# Most popular station\n",
        "# at the most popular hour\n",
        "#\n",
        "autolib_df[(autolib_df.Kind == 'STATION') & (autolib_df.hour == 2)  & (autolib_df.Status == 'ok')].groupby('Public_Name').count()[['Kind']].sort_values(by = 'Kind', ascending = False).head(1)"
      ],
      "execution_count": 11,
      "outputs": [
        {
          "output_type": "execute_result",
          "data": {
            "text/html": [
              "<div>\n",
              "<style scoped>\n",
              "    .dataframe tbody tr th:only-of-type {\n",
              "        vertical-align: middle;\n",
              "    }\n",
              "\n",
              "    .dataframe tbody tr th {\n",
              "        vertical-align: top;\n",
              "    }\n",
              "\n",
              "    .dataframe thead th {\n",
              "        text-align: right;\n",
              "    }\n",
              "</style>\n",
              "<table border=\"1\" class=\"dataframe\">\n",
              "  <thead>\n",
              "    <tr style=\"text-align: right;\">\n",
              "      <th></th>\n",
              "      <th>Kind</th>\n",
              "    </tr>\n",
              "    <tr>\n",
              "      <th>Public_Name</th>\n",
              "      <th></th>\n",
              "    </tr>\n",
              "  </thead>\n",
              "  <tbody>\n",
              "    <tr>\n",
              "      <th>Alfortville/Charles de Gaulle/16</th>\n",
              "      <td>539</td>\n",
              "    </tr>\n",
              "  </tbody>\n",
              "</table>\n",
              "</div>"
            ],
            "text/plain": [
              "                                  Kind\n",
              "Public_Name                           \n",
              "Alfortville/Charles de Gaulle/16   539"
            ]
          },
          "metadata": {
            "tags": []
          },
          "execution_count": 11
        }
      ]
    },
    {
      "cell_type": "code",
      "metadata": {
        "id": "FADaUTe7PKhz",
        "colab_type": "code",
        "colab": {
          "base_uri": "https://localhost:8080/",
          "height": 112
        },
        "outputId": "63be59db-31f9-4b35-eb62-ae96bb423363"
      },
      "source": [
        "# What postal code is most popular when picking up Bluecars ?\n",
        "#\n",
        "autolib_df[autolib_df.bluecar_usage < 0].groupby('Postal_Code').count()[['bluecar_usage']].sort_values(by = 'bluecar_usage', ascending = False).head(1)"
      ],
      "execution_count": 12,
      "outputs": [
        {
          "output_type": "execute_result",
          "data": {
            "text/html": [
              "<div>\n",
              "<style scoped>\n",
              "    .dataframe tbody tr th:only-of-type {\n",
              "        vertical-align: middle;\n",
              "    }\n",
              "\n",
              "    .dataframe tbody tr th {\n",
              "        vertical-align: top;\n",
              "    }\n",
              "\n",
              "    .dataframe thead th {\n",
              "        text-align: right;\n",
              "    }\n",
              "</style>\n",
              "<table border=\"1\" class=\"dataframe\">\n",
              "  <thead>\n",
              "    <tr style=\"text-align: right;\">\n",
              "      <th></th>\n",
              "      <th>bluecar_usage</th>\n",
              "    </tr>\n",
              "    <tr>\n",
              "      <th>Postal_Code</th>\n",
              "      <th></th>\n",
              "    </tr>\n",
              "  </thead>\n",
              "  <tbody>\n",
              "    <tr>\n",
              "      <th>75015</th>\n",
              "      <td>287141</td>\n",
              "    </tr>\n",
              "  </tbody>\n",
              "</table>\n",
              "</div>"
            ],
            "text/plain": [
              "             bluecar_usage\n",
              "Postal_Code               \n",
              "75015               287141"
            ]
          },
          "metadata": {
            "tags": []
          },
          "execution_count": 12
        }
      ]
    },
    {
      "cell_type": "code",
      "metadata": {
        "id": "BjiAFMZuRUfZ",
        "colab_type": "code",
        "colab": {
          "base_uri": "https://localhost:8080/",
          "height": 112
        },
        "outputId": "64a84373-eda0-403f-da86-7aee02fb4fb6"
      },
      "source": [
        "# What postal code is the most popular for picking up Bluecars at the most popular picking hour?\n",
        "#\n",
        "autolib_df[(autolib_df.bluecar_usage < 0) & (autolib_df.hour == 13)].groupby('Postal_Code').count()[['bluecar_usage']].sort_values(by = 'bluecar_usage', ascending = False).head(1)"
      ],
      "execution_count": 13,
      "outputs": [
        {
          "output_type": "execute_result",
          "data": {
            "text/html": [
              "<div>\n",
              "<style scoped>\n",
              "    .dataframe tbody tr th:only-of-type {\n",
              "        vertical-align: middle;\n",
              "    }\n",
              "\n",
              "    .dataframe tbody tr th {\n",
              "        vertical-align: top;\n",
              "    }\n",
              "\n",
              "    .dataframe thead th {\n",
              "        text-align: right;\n",
              "    }\n",
              "</style>\n",
              "<table border=\"1\" class=\"dataframe\">\n",
              "  <thead>\n",
              "    <tr style=\"text-align: right;\">\n",
              "      <th></th>\n",
              "      <th>bluecar_usage</th>\n",
              "    </tr>\n",
              "    <tr>\n",
              "      <th>Postal_Code</th>\n",
              "      <th></th>\n",
              "    </tr>\n",
              "  </thead>\n",
              "  <tbody>\n",
              "    <tr>\n",
              "      <th>75015</th>\n",
              "      <td>12512</td>\n",
              "    </tr>\n",
              "  </tbody>\n",
              "</table>\n",
              "</div>"
            ],
            "text/plain": [
              "             bluecar_usage\n",
              "Postal_Code               \n",
              "75015                12512"
            ]
          },
          "metadata": {
            "tags": []
          },
          "execution_count": 13
        }
      ]
    },
    {
      "cell_type": "code",
      "metadata": {
        "id": "axRrZ6E-RyIQ",
        "colab_type": "code",
        "colab": {
          "base_uri": "https://localhost:8080/",
          "height": 81
        },
        "outputId": "0a076bb4-e0ae-4e7d-80f4-55d03a747005"
      },
      "source": [
        "# Does the most popular station belong to that postal code overall ?\n",
        "#\n",
        "autolib_df[autolib_df.Public_Name == 'Alfortville/Charles de Gaulle/16'][['Public_Name', 'Postal_Code']].head(1)"
      ],
      "execution_count": 14,
      "outputs": [
        {
          "output_type": "execute_result",
          "data": {
            "text/html": [
              "<div>\n",
              "<style scoped>\n",
              "    .dataframe tbody tr th:only-of-type {\n",
              "        vertical-align: middle;\n",
              "    }\n",
              "\n",
              "    .dataframe tbody tr th {\n",
              "        vertical-align: top;\n",
              "    }\n",
              "\n",
              "    .dataframe thead th {\n",
              "        text-align: right;\n",
              "    }\n",
              "</style>\n",
              "<table border=\"1\" class=\"dataframe\">\n",
              "  <thead>\n",
              "    <tr style=\"text-align: right;\">\n",
              "      <th></th>\n",
              "      <th>Public_Name</th>\n",
              "      <th>Postal_Code</th>\n",
              "    </tr>\n",
              "  </thead>\n",
              "  <tbody>\n",
              "    <tr>\n",
              "      <th>487</th>\n",
              "      <td>Alfortville/Charles de Gaulle/16</td>\n",
              "      <td>94140</td>\n",
              "    </tr>\n",
              "  </tbody>\n",
              "</table>\n",
              "</div>"
            ],
            "text/plain": [
              "                          Public_Name  Postal_Code\n",
              "487  Alfortville/Charles de Gaulle/16        94140"
            ]
          },
          "metadata": {
            "tags": []
          },
          "execution_count": 14
        }
      ]
    },
    {
      "cell_type": "markdown",
      "metadata": {
        "id": "fjzFiMSJSmkK",
        "colab_type": "text"
      },
      "source": [
        "It does not"
      ]
    },
    {
      "cell_type": "code",
      "metadata": {
        "id": "WgOMks3pSQ_y",
        "colab_type": "code",
        "colab": {
          "base_uri": "https://localhost:8080/",
          "height": 81
        },
        "outputId": "63d82862-52ad-44c3-b59e-439a673fdfcc"
      },
      "source": [
        "# Does the most popular station belong to that postal code at the most popular picking hour?\n",
        "#\n",
        "autolib_df[(autolib_df.Public_Name == 'Alfortville/Charles de Gaulle/16') & (autolib_df.hour == 2)][['Public_Name', 'Postal_Code']].head(1)"
      ],
      "execution_count": 16,
      "outputs": [
        {
          "output_type": "execute_result",
          "data": {
            "text/html": [
              "<div>\n",
              "<style scoped>\n",
              "    .dataframe tbody tr th:only-of-type {\n",
              "        vertical-align: middle;\n",
              "    }\n",
              "\n",
              "    .dataframe tbody tr th {\n",
              "        vertical-align: top;\n",
              "    }\n",
              "\n",
              "    .dataframe thead th {\n",
              "        text-align: right;\n",
              "    }\n",
              "</style>\n",
              "<table border=\"1\" class=\"dataframe\">\n",
              "  <thead>\n",
              "    <tr style=\"text-align: right;\">\n",
              "      <th></th>\n",
              "      <th>Public_Name</th>\n",
              "      <th>Postal_Code</th>\n",
              "    </tr>\n",
              "  </thead>\n",
              "  <tbody>\n",
              "    <tr>\n",
              "      <th>135701</th>\n",
              "      <td>Alfortville/Charles de Gaulle/16</td>\n",
              "      <td>94140</td>\n",
              "    </tr>\n",
              "  </tbody>\n",
              "</table>\n",
              "</div>"
            ],
            "text/plain": [
              "                             Public_Name  Postal_Code\n",
              "135701  Alfortville/Charles de Gaulle/16        94140"
            ]
          },
          "metadata": {
            "tags": []
          },
          "execution_count": 16
        }
      ]
    },
    {
      "cell_type": "markdown",
      "metadata": {
        "id": "gNAReNI4SpCq",
        "colab_type": "text"
      },
      "source": [
        "It does not"
      ]
    },
    {
      "cell_type": "markdown",
      "metadata": {
        "id": "h-mupAHkUHs0",
        "colab_type": "text"
      },
      "source": [
        "# Challenges - Utilib"
      ]
    },
    {
      "cell_type": "code",
      "metadata": {
        "id": "zbEqHauCU6Ts",
        "colab_type": "code",
        "colab": {
          "base_uri": "https://localhost:8080/",
          "height": 36
        },
        "outputId": "8ce119d7-5244-4adc-8c01-132b5e7550f3"
      },
      "source": [
        "# First find the unique values that appear in the \n",
        "# utilib_usage so as to find the highest -ve value\n",
        "# which is the highest pickup\n",
        "#\n",
        "autolib_df.utilib_usage.unique()"
      ],
      "execution_count": 17,
      "outputs": [
        {
          "output_type": "execute_result",
          "data": {
            "text/plain": [
              "array([nan, -1.,  0.,  1.,  2., -2.,  3., -3.,  4., -4.])"
            ]
          },
          "metadata": {
            "tags": []
          },
          "execution_count": 17
        }
      ]
    },
    {
      "cell_type": "code",
      "metadata": {
        "id": "rSf0f2L9U-Nq",
        "colab_type": "code",
        "colab": {
          "base_uri": "https://localhost:8080/",
          "height": 74
        },
        "outputId": "9f8099a8-eb61-480a-cadb-6070028b84df"
      },
      "source": [
        "# Most popular hour for picking a car\n",
        "#\n",
        "autolib_df[(autolib_df.City == 'Paris') & (autolib_df.utilib_usage.min() < 0 )].groupby('hour')['hour'].count().sort_values(ascending = False).head(1)"
      ],
      "execution_count": 20,
      "outputs": [
        {
          "output_type": "execute_result",
          "data": {
            "text/plain": [
              "hour\n",
              "12    329940\n",
              "Name: hour, dtype: int64"
            ]
          },
          "metadata": {
            "tags": []
          },
          "execution_count": 20
        }
      ]
    },
    {
      "cell_type": "code",
      "metadata": {
        "id": "VmJcieH8Vdld",
        "colab_type": "code",
        "colab": {
          "base_uri": "https://localhost:8080/",
          "height": 74
        },
        "outputId": "f505c74a-ad1c-418f-8362-da2dab20401a"
      },
      "source": [
        "# Most popular hour for returning cars\n",
        "#\n",
        "autolib_df[autolib_df.utilib_usage > 0 ].groupby('hour')['hour'].count().sort_values(ascending = False).head(1)"
      ],
      "execution_count": 21,
      "outputs": [
        {
          "output_type": "execute_result",
          "data": {
            "text/plain": [
              "hour\n",
              "5    38106\n",
              "Name: hour, dtype: int64"
            ]
          },
          "metadata": {
            "tags": []
          },
          "execution_count": 21
        }
      ]
    },
    {
      "cell_type": "code",
      "metadata": {
        "id": "wGZDdQOXWHJE",
        "colab_type": "code",
        "colab": {
          "base_uri": "https://localhost:8080/",
          "height": 112
        },
        "outputId": "65f94c6a-9ed4-471d-e9ff-da31059ad8fb"
      },
      "source": [
        "# Most popular station overall\n",
        "#\n",
        "autolib_df[(autolib_df.Kind == 'STATION') & (autolib_df.Status == 'ok')].groupby('Public_Name')[['Kind']].count().sort_values(by = 'Kind', ascending  = False).head(1)"
      ],
      "execution_count": 22,
      "outputs": [
        {
          "output_type": "execute_result",
          "data": {
            "text/html": [
              "<div>\n",
              "<style scoped>\n",
              "    .dataframe tbody tr th:only-of-type {\n",
              "        vertical-align: middle;\n",
              "    }\n",
              "\n",
              "    .dataframe tbody tr th {\n",
              "        vertical-align: top;\n",
              "    }\n",
              "\n",
              "    .dataframe thead th {\n",
              "        text-align: right;\n",
              "    }\n",
              "</style>\n",
              "<table border=\"1\" class=\"dataframe\">\n",
              "  <thead>\n",
              "    <tr style=\"text-align: right;\">\n",
              "      <th></th>\n",
              "      <th>Kind</th>\n",
              "    </tr>\n",
              "    <tr>\n",
              "      <th>Public_Name</th>\n",
              "      <th></th>\n",
              "    </tr>\n",
              "  </thead>\n",
              "  <tbody>\n",
              "    <tr>\n",
              "      <th>Alfortville/Charles de Gaulle/16</th>\n",
              "      <td>12761</td>\n",
              "    </tr>\n",
              "  </tbody>\n",
              "</table>\n",
              "</div>"
            ],
            "text/plain": [
              "                                   Kind\n",
              "Public_Name                            \n",
              "Alfortville/Charles de Gaulle/16  12761"
            ]
          },
          "metadata": {
            "tags": []
          },
          "execution_count": 22
        }
      ]
    },
    {
      "cell_type": "code",
      "metadata": {
        "id": "M8VooUBRWiK-",
        "colab_type": "code",
        "colab": {
          "base_uri": "https://localhost:8080/",
          "height": 112
        },
        "outputId": "8c371147-8f63-440e-c412-5b796438c3f7"
      },
      "source": [
        "# Most popular popular station at the most popular hour\n",
        "#\n",
        "autolib_df[(autolib_df.Kind == 'STATION') & (autolib_df.hour == 19)  & (autolib_df.Status == 'ok')].groupby('Public_Name').count()[['Kind']].sort_values(by = 'Kind', ascending = False).head(1)"
      ],
      "execution_count": 23,
      "outputs": [
        {
          "output_type": "execute_result",
          "data": {
            "text/html": [
              "<div>\n",
              "<style scoped>\n",
              "    .dataframe tbody tr th:only-of-type {\n",
              "        vertical-align: middle;\n",
              "    }\n",
              "\n",
              "    .dataframe tbody tr th {\n",
              "        vertical-align: top;\n",
              "    }\n",
              "\n",
              "    .dataframe thead th {\n",
              "        text-align: right;\n",
              "    }\n",
              "</style>\n",
              "<table border=\"1\" class=\"dataframe\">\n",
              "  <thead>\n",
              "    <tr style=\"text-align: right;\">\n",
              "      <th></th>\n",
              "      <th>Kind</th>\n",
              "    </tr>\n",
              "    <tr>\n",
              "      <th>Public_Name</th>\n",
              "      <th></th>\n",
              "    </tr>\n",
              "  </thead>\n",
              "  <tbody>\n",
              "    <tr>\n",
              "      <th>Alfortville/Charles de Gaulle/16</th>\n",
              "      <td>540</td>\n",
              "    </tr>\n",
              "  </tbody>\n",
              "</table>\n",
              "</div>"
            ],
            "text/plain": [
              "                                  Kind\n",
              "Public_Name                           \n",
              "Alfortville/Charles de Gaulle/16   540"
            ]
          },
          "metadata": {
            "tags": []
          },
          "execution_count": 23
        }
      ]
    },
    {
      "cell_type": "code",
      "metadata": {
        "id": "F3U5SlXJXBTc",
        "colab_type": "code",
        "colab": {
          "base_uri": "https://localhost:8080/",
          "height": 112
        },
        "outputId": "07c5cf0a-3037-4632-9a96-7b4ea12ccfbe"
      },
      "source": [
        "# What postal code is most popular when picking up utilib ?\n",
        "#\n",
        "autolib_df[autolib_df.utilib_usage < 0].groupby('Postal_Code').count()[['utilib_usage']].sort_values(by = 'utilib_usage', ascending = False).head(1)"
      ],
      "execution_count": 24,
      "outputs": [
        {
          "output_type": "execute_result",
          "data": {
            "text/html": [
              "<div>\n",
              "<style scoped>\n",
              "    .dataframe tbody tr th:only-of-type {\n",
              "        vertical-align: middle;\n",
              "    }\n",
              "\n",
              "    .dataframe tbody tr th {\n",
              "        vertical-align: top;\n",
              "    }\n",
              "\n",
              "    .dataframe thead th {\n",
              "        text-align: right;\n",
              "    }\n",
              "</style>\n",
              "<table border=\"1\" class=\"dataframe\">\n",
              "  <thead>\n",
              "    <tr style=\"text-align: right;\">\n",
              "      <th></th>\n",
              "      <th>utilib_usage</th>\n",
              "    </tr>\n",
              "    <tr>\n",
              "      <th>Postal_Code</th>\n",
              "      <th></th>\n",
              "    </tr>\n",
              "  </thead>\n",
              "  <tbody>\n",
              "    <tr>\n",
              "      <th>75015</th>\n",
              "      <td>45004</td>\n",
              "    </tr>\n",
              "  </tbody>\n",
              "</table>\n",
              "</div>"
            ],
            "text/plain": [
              "             utilib_usage\n",
              "Postal_Code              \n",
              "75015               45004"
            ]
          },
          "metadata": {
            "tags": []
          },
          "execution_count": 24
        }
      ]
    },
    {
      "cell_type": "code",
      "metadata": {
        "id": "ykzmUBWFXD5N",
        "colab_type": "code",
        "colab": {
          "base_uri": "https://localhost:8080/",
          "height": 112
        },
        "outputId": "b3d0cb41-36a1-4b67-9397-2439c469d71a"
      },
      "source": [
        "# What postal code is the most popular for picking up utilib at the most popular picking hour?\n",
        "#\n",
        "autolib_df[(autolib_df.utilib_usage < 0) & (autolib_df.hour == 13)].groupby('Postal_Code').count()[['utilib_usage']].sort_values(by = 'utilib_usage', ascending = False).head(1)"
      ],
      "execution_count": 25,
      "outputs": [
        {
          "output_type": "execute_result",
          "data": {
            "text/html": [
              "<div>\n",
              "<style scoped>\n",
              "    .dataframe tbody tr th:only-of-type {\n",
              "        vertical-align: middle;\n",
              "    }\n",
              "\n",
              "    .dataframe tbody tr th {\n",
              "        vertical-align: top;\n",
              "    }\n",
              "\n",
              "    .dataframe thead th {\n",
              "        text-align: right;\n",
              "    }\n",
              "</style>\n",
              "<table border=\"1\" class=\"dataframe\">\n",
              "  <thead>\n",
              "    <tr style=\"text-align: right;\">\n",
              "      <th></th>\n",
              "      <th>utilib_usage</th>\n",
              "    </tr>\n",
              "    <tr>\n",
              "      <th>Postal_Code</th>\n",
              "      <th></th>\n",
              "    </tr>\n",
              "  </thead>\n",
              "  <tbody>\n",
              "    <tr>\n",
              "      <th>75015</th>\n",
              "      <td>1827</td>\n",
              "    </tr>\n",
              "  </tbody>\n",
              "</table>\n",
              "</div>"
            ],
            "text/plain": [
              "             utilib_usage\n",
              "Postal_Code              \n",
              "75015                1827"
            ]
          },
          "metadata": {
            "tags": []
          },
          "execution_count": 25
        }
      ]
    },
    {
      "cell_type": "code",
      "metadata": {
        "id": "zKdsgtwpXJWz",
        "colab_type": "code",
        "colab": {
          "base_uri": "https://localhost:8080/",
          "height": 81
        },
        "outputId": "0a6acc04-1da7-49c3-f9cf-217b46e1b011"
      },
      "source": [
        "# Does the most popular station belong to that postal code overall ?\n",
        "#\n",
        "autolib_df[autolib_df.Public_Name == 'Alfortville/Charles de Gaulle/16'][['Public_Name', 'Postal_Code']].head(1)"
      ],
      "execution_count": 26,
      "outputs": [
        {
          "output_type": "execute_result",
          "data": {
            "text/html": [
              "<div>\n",
              "<style scoped>\n",
              "    .dataframe tbody tr th:only-of-type {\n",
              "        vertical-align: middle;\n",
              "    }\n",
              "\n",
              "    .dataframe tbody tr th {\n",
              "        vertical-align: top;\n",
              "    }\n",
              "\n",
              "    .dataframe thead th {\n",
              "        text-align: right;\n",
              "    }\n",
              "</style>\n",
              "<table border=\"1\" class=\"dataframe\">\n",
              "  <thead>\n",
              "    <tr style=\"text-align: right;\">\n",
              "      <th></th>\n",
              "      <th>Public_Name</th>\n",
              "      <th>Postal_Code</th>\n",
              "    </tr>\n",
              "  </thead>\n",
              "  <tbody>\n",
              "    <tr>\n",
              "      <th>487</th>\n",
              "      <td>Alfortville/Charles de Gaulle/16</td>\n",
              "      <td>94140</td>\n",
              "    </tr>\n",
              "  </tbody>\n",
              "</table>\n",
              "</div>"
            ],
            "text/plain": [
              "                          Public_Name  Postal_Code\n",
              "487  Alfortville/Charles de Gaulle/16        94140"
            ]
          },
          "metadata": {
            "tags": []
          },
          "execution_count": 26
        }
      ]
    },
    {
      "cell_type": "code",
      "metadata": {
        "id": "G77kOJbhXR-V",
        "colab_type": "code",
        "colab": {
          "base_uri": "https://localhost:8080/",
          "height": 81
        },
        "outputId": "3ba90e7f-af04-44da-cc27-399d25c0099c"
      },
      "source": [
        "# Does the most popular station belong to that postal code at the most popular picking hour?\n",
        "#\n",
        "autolib_df[(autolib_df.Public_Name == 'Alfortville/Charles de Gaulle/16') & (autolib_df.hour == 2)][['Public_Name', 'Postal_Code']].head(1)"
      ],
      "execution_count": 27,
      "outputs": [
        {
          "output_type": "execute_result",
          "data": {
            "text/html": [
              "<div>\n",
              "<style scoped>\n",
              "    .dataframe tbody tr th:only-of-type {\n",
              "        vertical-align: middle;\n",
              "    }\n",
              "\n",
              "    .dataframe tbody tr th {\n",
              "        vertical-align: top;\n",
              "    }\n",
              "\n",
              "    .dataframe thead th {\n",
              "        text-align: right;\n",
              "    }\n",
              "</style>\n",
              "<table border=\"1\" class=\"dataframe\">\n",
              "  <thead>\n",
              "    <tr style=\"text-align: right;\">\n",
              "      <th></th>\n",
              "      <th>Public_Name</th>\n",
              "      <th>Postal_Code</th>\n",
              "    </tr>\n",
              "  </thead>\n",
              "  <tbody>\n",
              "    <tr>\n",
              "      <th>135701</th>\n",
              "      <td>Alfortville/Charles de Gaulle/16</td>\n",
              "      <td>94140</td>\n",
              "    </tr>\n",
              "  </tbody>\n",
              "</table>\n",
              "</div>"
            ],
            "text/plain": [
              "                             Public_Name  Postal_Code\n",
              "135701  Alfortville/Charles de Gaulle/16        94140"
            ]
          },
          "metadata": {
            "tags": []
          },
          "execution_count": 27
        }
      ]
    },
    {
      "cell_type": "markdown",
      "metadata": {
        "id": "I97my68qUL0z",
        "colab_type": "text"
      },
      "source": [
        "# Challenges - Utilib 1.4"
      ]
    },
    {
      "cell_type": "code",
      "metadata": {
        "id": "ufXY3Ay1XPKF",
        "colab_type": "code",
        "colab": {
          "base_uri": "https://localhost:8080/",
          "height": 36
        },
        "outputId": "47e20083-9922-4e3a-e150-f119dfd6f75d"
      },
      "source": [
        "# First find the unique values that appear in the \n",
        "# utilib_14_usage so as to find the highest -ve value\n",
        "# which is the highest pickup\n",
        "#\n",
        "autolib_df.utilib_14_usage.unique()"
      ],
      "execution_count": 28,
      "outputs": [
        {
          "output_type": "execute_result",
          "data": {
            "text/plain": [
              "array([nan,  0.,  1., -1.,  2., -2., -3.,  3., -4.,  4.])"
            ]
          },
          "metadata": {
            "tags": []
          },
          "execution_count": 28
        }
      ]
    },
    {
      "cell_type": "code",
      "metadata": {
        "id": "RIf8YM4qU9n2",
        "colab_type": "code",
        "colab": {
          "base_uri": "https://localhost:8080/",
          "height": 74
        },
        "outputId": "5ecb9a42-1d95-492d-c99f-47cb2c0b2443"
      },
      "source": [
        "# Most popular hour for picking a car\n",
        "#\n",
        "autolib_df[(autolib_df.City == 'Paris') & (autolib_df.utilib_14_usage.min() < 0 )].groupby('hour')['hour'].count().sort_values(ascending = False).head(1)"
      ],
      "execution_count": 29,
      "outputs": [
        {
          "output_type": "execute_result",
          "data": {
            "text/plain": [
              "hour\n",
              "12    329940\n",
              "Name: hour, dtype: int64"
            ]
          },
          "metadata": {
            "tags": []
          },
          "execution_count": 29
        }
      ]
    },
    {
      "cell_type": "code",
      "metadata": {
        "id": "uhbJCHvqZCqn",
        "colab_type": "code",
        "colab": {
          "base_uri": "https://localhost:8080/",
          "height": 74
        },
        "outputId": "666a4488-bd9b-486d-9236-5a47108cacfd"
      },
      "source": [
        "# Most popular hour for returning cars\n",
        "#\n",
        "autolib_df[autolib_df.utilib_14_usage > 0 ].groupby('hour')['hour'].count().sort_values(ascending = False).head(1)"
      ],
      "execution_count": 30,
      "outputs": [
        {
          "output_type": "execute_result",
          "data": {
            "text/plain": [
              "hour\n",
              "5    70561\n",
              "Name: hour, dtype: int64"
            ]
          },
          "metadata": {
            "tags": []
          },
          "execution_count": 30
        }
      ]
    },
    {
      "cell_type": "code",
      "metadata": {
        "id": "aWUdceNiZdxX",
        "colab_type": "code",
        "colab": {
          "base_uri": "https://localhost:8080/",
          "height": 112
        },
        "outputId": "00b6122f-02fc-4749-ff1c-c5a9245932ac"
      },
      "source": [
        "# Most popular station overall\n",
        "#\n",
        "autolib_df[(autolib_df.Kind == 'STATION') & (autolib_df.Status == 'ok')].groupby('Public_Name')[['Kind']].count().sort_values(by = 'Kind', ascending  = False).head(1)"
      ],
      "execution_count": 31,
      "outputs": [
        {
          "output_type": "execute_result",
          "data": {
            "text/html": [
              "<div>\n",
              "<style scoped>\n",
              "    .dataframe tbody tr th:only-of-type {\n",
              "        vertical-align: middle;\n",
              "    }\n",
              "\n",
              "    .dataframe tbody tr th {\n",
              "        vertical-align: top;\n",
              "    }\n",
              "\n",
              "    .dataframe thead th {\n",
              "        text-align: right;\n",
              "    }\n",
              "</style>\n",
              "<table border=\"1\" class=\"dataframe\">\n",
              "  <thead>\n",
              "    <tr style=\"text-align: right;\">\n",
              "      <th></th>\n",
              "      <th>Kind</th>\n",
              "    </tr>\n",
              "    <tr>\n",
              "      <th>Public_Name</th>\n",
              "      <th></th>\n",
              "    </tr>\n",
              "  </thead>\n",
              "  <tbody>\n",
              "    <tr>\n",
              "      <th>Alfortville/Charles de Gaulle/16</th>\n",
              "      <td>12761</td>\n",
              "    </tr>\n",
              "  </tbody>\n",
              "</table>\n",
              "</div>"
            ],
            "text/plain": [
              "                                   Kind\n",
              "Public_Name                            \n",
              "Alfortville/Charles de Gaulle/16  12761"
            ]
          },
          "metadata": {
            "tags": []
          },
          "execution_count": 31
        }
      ]
    },
    {
      "cell_type": "code",
      "metadata": {
        "id": "jxhUTEzDZn2p",
        "colab_type": "code",
        "colab": {
          "base_uri": "https://localhost:8080/",
          "height": 112
        },
        "outputId": "7d1a43fd-81b3-4f85-da76-4f5e86c2b8af"
      },
      "source": [
        "# Most popular popular station at the most popular hour\n",
        "#\n",
        "autolib_df[(autolib_df.Kind == 'STATION') & (autolib_df.hour == 19)  & (autolib_df.Status == 'ok')].groupby('Public_Name').count()[['Kind']].sort_values(by = 'Kind', ascending = False).head(1)"
      ],
      "execution_count": 32,
      "outputs": [
        {
          "output_type": "execute_result",
          "data": {
            "text/html": [
              "<div>\n",
              "<style scoped>\n",
              "    .dataframe tbody tr th:only-of-type {\n",
              "        vertical-align: middle;\n",
              "    }\n",
              "\n",
              "    .dataframe tbody tr th {\n",
              "        vertical-align: top;\n",
              "    }\n",
              "\n",
              "    .dataframe thead th {\n",
              "        text-align: right;\n",
              "    }\n",
              "</style>\n",
              "<table border=\"1\" class=\"dataframe\">\n",
              "  <thead>\n",
              "    <tr style=\"text-align: right;\">\n",
              "      <th></th>\n",
              "      <th>Kind</th>\n",
              "    </tr>\n",
              "    <tr>\n",
              "      <th>Public_Name</th>\n",
              "      <th></th>\n",
              "    </tr>\n",
              "  </thead>\n",
              "  <tbody>\n",
              "    <tr>\n",
              "      <th>Alfortville/Charles de Gaulle/16</th>\n",
              "      <td>540</td>\n",
              "    </tr>\n",
              "  </tbody>\n",
              "</table>\n",
              "</div>"
            ],
            "text/plain": [
              "                                  Kind\n",
              "Public_Name                           \n",
              "Alfortville/Charles de Gaulle/16   540"
            ]
          },
          "metadata": {
            "tags": []
          },
          "execution_count": 32
        }
      ]
    },
    {
      "cell_type": "code",
      "metadata": {
        "id": "HGnpQqwAZ0xR",
        "colab_type": "code",
        "colab": {
          "base_uri": "https://localhost:8080/",
          "height": 112
        },
        "outputId": "f7af0daf-093e-4da2-b07b-08a05b9cb1d2"
      },
      "source": [
        "# What postal code is most popular when picking up utilib ?\n",
        "#\n",
        "autolib_df[autolib_df.utilib_14_usage < 0].groupby('Postal_Code').count()[['utilib_14_usage']].sort_values(by = 'utilib_14_usage', ascending = False).head(1)"
      ],
      "execution_count": 33,
      "outputs": [
        {
          "output_type": "execute_result",
          "data": {
            "text/html": [
              "<div>\n",
              "<style scoped>\n",
              "    .dataframe tbody tr th:only-of-type {\n",
              "        vertical-align: middle;\n",
              "    }\n",
              "\n",
              "    .dataframe tbody tr th {\n",
              "        vertical-align: top;\n",
              "    }\n",
              "\n",
              "    .dataframe thead th {\n",
              "        text-align: right;\n",
              "    }\n",
              "</style>\n",
              "<table border=\"1\" class=\"dataframe\">\n",
              "  <thead>\n",
              "    <tr style=\"text-align: right;\">\n",
              "      <th></th>\n",
              "      <th>utilib_14_usage</th>\n",
              "    </tr>\n",
              "    <tr>\n",
              "      <th>Postal_Code</th>\n",
              "      <th></th>\n",
              "    </tr>\n",
              "  </thead>\n",
              "  <tbody>\n",
              "    <tr>\n",
              "      <th>75015</th>\n",
              "      <td>73083</td>\n",
              "    </tr>\n",
              "  </tbody>\n",
              "</table>\n",
              "</div>"
            ],
            "text/plain": [
              "             utilib_14_usage\n",
              "Postal_Code                 \n",
              "75015                  73083"
            ]
          },
          "metadata": {
            "tags": []
          },
          "execution_count": 33
        }
      ]
    },
    {
      "cell_type": "code",
      "metadata": {
        "id": "pYmlMtTIaKk0",
        "colab_type": "code",
        "colab": {
          "base_uri": "https://localhost:8080/",
          "height": 112
        },
        "outputId": "801b1f31-916e-4566-9754-6419bd48e0b0"
      },
      "source": [
        "# What postal code is the most popular for picking up utilib at the most popular picking hour?\n",
        "#\n",
        "autolib_df[(autolib_df.utilib_14_usage < 0) & (autolib_df.hour == 13)].groupby('Postal_Code').count()[['utilib_14_usage']].sort_values(by = 'utilib_14_usage', ascending = False).head(1)"
      ],
      "execution_count": 35,
      "outputs": [
        {
          "output_type": "execute_result",
          "data": {
            "text/html": [
              "<div>\n",
              "<style scoped>\n",
              "    .dataframe tbody tr th:only-of-type {\n",
              "        vertical-align: middle;\n",
              "    }\n",
              "\n",
              "    .dataframe tbody tr th {\n",
              "        vertical-align: top;\n",
              "    }\n",
              "\n",
              "    .dataframe thead th {\n",
              "        text-align: right;\n",
              "    }\n",
              "</style>\n",
              "<table border=\"1\" class=\"dataframe\">\n",
              "  <thead>\n",
              "    <tr style=\"text-align: right;\">\n",
              "      <th></th>\n",
              "      <th>utilib_14_usage</th>\n",
              "    </tr>\n",
              "    <tr>\n",
              "      <th>Postal_Code</th>\n",
              "      <th></th>\n",
              "    </tr>\n",
              "  </thead>\n",
              "  <tbody>\n",
              "    <tr>\n",
              "      <th>75015</th>\n",
              "      <td>3116</td>\n",
              "    </tr>\n",
              "  </tbody>\n",
              "</table>\n",
              "</div>"
            ],
            "text/plain": [
              "             utilib_14_usage\n",
              "Postal_Code                 \n",
              "75015                   3116"
            ]
          },
          "metadata": {
            "tags": []
          },
          "execution_count": 35
        }
      ]
    },
    {
      "cell_type": "code",
      "metadata": {
        "id": "ZfUBLZMXaUtb",
        "colab_type": "code",
        "colab": {
          "base_uri": "https://localhost:8080/",
          "height": 81
        },
        "outputId": "f319eb21-eb01-4497-e4d6-b22fe8ad5d5f"
      },
      "source": [
        "# Does the most popular station belong to that postal code overall ?\n",
        "#\n",
        "autolib_df[autolib_df.Public_Name == 'Alfortville/Charles de Gaulle/16'][['Public_Name', 'Postal_Code']].head(1)"
      ],
      "execution_count": 36,
      "outputs": [
        {
          "output_type": "execute_result",
          "data": {
            "text/html": [
              "<div>\n",
              "<style scoped>\n",
              "    .dataframe tbody tr th:only-of-type {\n",
              "        vertical-align: middle;\n",
              "    }\n",
              "\n",
              "    .dataframe tbody tr th {\n",
              "        vertical-align: top;\n",
              "    }\n",
              "\n",
              "    .dataframe thead th {\n",
              "        text-align: right;\n",
              "    }\n",
              "</style>\n",
              "<table border=\"1\" class=\"dataframe\">\n",
              "  <thead>\n",
              "    <tr style=\"text-align: right;\">\n",
              "      <th></th>\n",
              "      <th>Public_Name</th>\n",
              "      <th>Postal_Code</th>\n",
              "    </tr>\n",
              "  </thead>\n",
              "  <tbody>\n",
              "    <tr>\n",
              "      <th>487</th>\n",
              "      <td>Alfortville/Charles de Gaulle/16</td>\n",
              "      <td>94140</td>\n",
              "    </tr>\n",
              "  </tbody>\n",
              "</table>\n",
              "</div>"
            ],
            "text/plain": [
              "                          Public_Name  Postal_Code\n",
              "487  Alfortville/Charles de Gaulle/16        94140"
            ]
          },
          "metadata": {
            "tags": []
          },
          "execution_count": 36
        }
      ]
    },
    {
      "cell_type": "code",
      "metadata": {
        "id": "-_AG_XaOaemR",
        "colab_type": "code",
        "colab": {
          "base_uri": "https://localhost:8080/",
          "height": 81
        },
        "outputId": "e829acb5-fa1b-4950-e6a3-fb231d92a73e"
      },
      "source": [
        "# Does the most popular station belong to that postal code at the most popular picking hour?\n",
        "#\n",
        "autolib_df[(autolib_df.Public_Name == 'Alfortville/Charles de Gaulle/16') & (autolib_df.hour == 2)][['Public_Name', 'Postal_Code']].head(1)"
      ],
      "execution_count": 37,
      "outputs": [
        {
          "output_type": "execute_result",
          "data": {
            "text/html": [
              "<div>\n",
              "<style scoped>\n",
              "    .dataframe tbody tr th:only-of-type {\n",
              "        vertical-align: middle;\n",
              "    }\n",
              "\n",
              "    .dataframe tbody tr th {\n",
              "        vertical-align: top;\n",
              "    }\n",
              "\n",
              "    .dataframe thead th {\n",
              "        text-align: right;\n",
              "    }\n",
              "</style>\n",
              "<table border=\"1\" class=\"dataframe\">\n",
              "  <thead>\n",
              "    <tr style=\"text-align: right;\">\n",
              "      <th></th>\n",
              "      <th>Public_Name</th>\n",
              "      <th>Postal_Code</th>\n",
              "    </tr>\n",
              "  </thead>\n",
              "  <tbody>\n",
              "    <tr>\n",
              "      <th>135701</th>\n",
              "      <td>Alfortville/Charles de Gaulle/16</td>\n",
              "      <td>94140</td>\n",
              "    </tr>\n",
              "  </tbody>\n",
              "</table>\n",
              "</div>"
            ],
            "text/plain": [
              "                             Public_Name  Postal_Code\n",
              "135701  Alfortville/Charles de Gaulle/16        94140"
            ]
          },
          "metadata": {
            "tags": []
          },
          "execution_count": 37
        }
      ]
    }
  ]
}